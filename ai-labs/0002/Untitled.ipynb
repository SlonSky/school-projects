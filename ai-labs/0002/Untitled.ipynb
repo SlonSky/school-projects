{
 "cells": [
  {
   "cell_type": "code",
   "execution_count": 2,
   "metadata": {},
   "outputs": [],
   "source": [
    "from matplotlib import pyplot as plt\n",
    "%matplotlib inline\n",
    "import numpy as np"
   ]
  },
  {
   "cell_type": "code",
   "execution_count": 3,
   "metadata": {},
   "outputs": [],
   "source": [
    "def d1(x1, x2):\n",
    "    M = 7; N = 2; P = -1\n",
    "    return M * x2 + N * x1 + P\n",
    "\n",
    "def d2(x1, x2):\n",
    "    Q = 4; R = -6; S = 5\n",
    "    return Q * x2 + R * x1 + S\n",
    "\n",
    "def d3(x1, x2):\n",
    "    V = -1; W = -1; Z = -2\n",
    "    return V * x2 + W * x1 + Z"
   ]
  },
  {
   "cell_type": "code",
   "execution_count": 14,
   "metadata": {},
   "outputs": [],
   "source": [
    "rMin = -5; rMax = 5; step = 0.1\n",
    "t = np.arange(rMin, rMax, step)\n",
    "\n",
    "x1, x2 = np.meshgrid(t, t)"
   ]
  },
  {
   "cell_type": "code",
   "execution_count": 15,
   "metadata": {},
   "outputs": [
    {
     "data": {
      "text/plain": [
       "(100, 100)"
      ]
     },
     "execution_count": 15,
     "metadata": {},
     "output_type": "execute_result"
    }
   ],
   "source": [
    "x1.shape"
   ]
  },
  {
   "cell_type": "code",
   "execution_count": 8,
   "metadata": {},
   "outputs": [],
   "source": [
    "def classify(x1, x2):\n",
    "    res = np.zeros(shape=(x1.shape[0], x2.shape[0]))\n",
    "    \n",
    "    c1 = np.logical_and(d1(x1, x2) > 0 , d2(x1, x2) < 0 , d3(x1, x2) < 0)\n",
    "    \n",
    "    c2 = np.logical_and(d1(x1, x2) < 0 , d2(x1, x2) > 0 , d3(x1, x2) < 0)\n",
    "    \n",
    "    c3 = np.logical_and(d1(x1, x2) < 0 , d2(x1, x2) < 0 , d3(x1, x2) > 0)\n",
    "    \n",
    "#     c1 = d1(x1, x2) > 0\n",
    "#     c2 = d2(x1, x2) > 0\n",
    "#     c3 = d3(x1, x2) > 0\n",
    "    \n",
    "    res[c1 == True] = 1\n",
    "    res[c2 == True] = 2\n",
    "    res[c3 == True] = 3\n",
    "    \n",
    "    return res\n",
    "    "
   ]
  },
  {
   "cell_type": "code",
   "execution_count": 9,
   "metadata": {},
   "outputs": [],
   "source": [
    "from matplotlib.cm import gist_rainbow\n",
    "import matplotlib.patches as mpatches"
   ]
  },
  {
   "cell_type": "code",
   "execution_count": 11,
   "metadata": {},
   "outputs": [],
   "source": [
    "ff= classify(x1, -x2)"
   ]
  },
  {
   "cell_type": "code",
   "execution_count": 13,
   "metadata": {},
   "outputs": [
    {
     "data": {
      "text/plain": [
       "(100, 100)"
      ]
     },
     "execution_count": 13,
     "metadata": {},
     "output_type": "execute_result"
    }
   ],
   "source": [
    "ff.shape"
   ]
  },
  {
   "cell_type": "code",
   "execution_count": 10,
   "metadata": {},
   "outputs": [
    {
     "data": {
      "image/png": "[encoded data removed]",
      "text/plain": [
       "<Figure size 720x1080 with 1 Axes>"
      ]
     },
     "metadata": {},
     "output_type": "display_data"
    }
   ],
   "source": [
    "fig = plt.figure(figsize=(10,15),facecolor='w') \n",
    "\n",
    "\n",
    "ax = fig.add_subplot(111)\n",
    "im = ax.imshow(classify(x1, -x2), cmap=gist_rainbow)\n",
    "\n",
    "values = [0, 1, 2, 3]\n",
    "classes = ['no class', 'Class 1', 'Class 2', 'Class 3']\n",
    "\n",
    "colors = [ im.cmap(im.norm(value)) for value in values]\n",
    "\n",
    "patches = [ mpatches.Patch(color=colors[i], label=classes[i] ) for i in range(len(values)) ]\n",
    "\n",
    "plt.legend(handles=patches, bbox_to_anchor=(1.05, 1), loc=2, borderaxespad=0. )\n",
    "\n",
    "ax.set_xticklabels(np.round(t, 2));\n",
    "ax.set_yticklabels(np.round(t, 2));\n"
   ]
  },
  {
   "cell_type": "code",
   "execution_count": null,
   "metadata": {},
   "outputs": [],
   "source": []
  }
 ],
 "metadata": {
  "kernelspec": {
   "display_name": "Python 3",
   "language": "python",
   "name": "python3"
  },
  "language_info": {
   "codemirror_mode": {
    "name": "ipython",
    "version": 3
   },
   "file_extension": ".py",
   "mimetype": "text/x-python",
   "name": "python",
   "nbconvert_exporter": "python",
   "pygments_lexer": "ipython3",
   "version": "3.6.5"
  }
 },
 "nbformat": 4,
 "nbformat_minor": 2
}
