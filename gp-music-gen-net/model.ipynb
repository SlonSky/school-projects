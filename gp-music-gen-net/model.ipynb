{
 "cells": [
  {
   "cell_type": "code",
   "execution_count": 1,
   "metadata": {},
   "outputs": [
    {
     "name": "stderr",
     "output_type": "stream",
     "text": [
      "D:\\development\\Anaconda\\lib\\site-packages\\h5py\\__init__.py:36: FutureWarning: Conversion of the second argument of issubdtype from `float` to `np.floating` is deprecated. In future, it will be treated as `np.float64 == np.dtype(float).type`.\n",
      "  from ._conv import register_converters as _register_converters\n",
      "Using TensorFlow backend.\n"
     ]
    }
   ],
   "source": [
    "import keras"
   ]
  },
  {
   "cell_type": "code",
   "execution_count": 5,
   "metadata": {},
   "outputs": [],
   "source": [
    "import numpy as np\n",
    "import csv\n",
    "import pandas as pd"
   ]
  },
  {
   "cell_type": "code",
   "execution_count": 6,
   "metadata": {},
   "outputs": [],
   "source": [
    "from os import listdir"
   ]
  },
  {
   "cell_type": "code",
   "execution_count": 7,
   "metadata": {},
   "outputs": [],
   "source": [
    "def load_data(directory):\n",
    "    filenames = listdir(directory)\n",
    "    \n",
    "    data = list()\n",
    "    for filename in filenames:\n",
    "        with open(directory + filename, 'r') as f:\n",
    "            data.append(pd.read_csv(f))\n",
    "    return data"
   ]
  },
  {
   "cell_type": "code",
   "execution_count": 8,
   "metadata": {},
   "outputs": [],
   "source": [
    "datas = load_data('D:/development/python-projects/mozart-tabs/')"
   ]
  },
  {
   "cell_type": "code",
   "execution_count": 9,
   "metadata": {},
   "outputs": [
    {
     "data": {
      "text/plain": [
       "(531808, 108)"
      ]
     },
     "execution_count": 9,
     "metadata": {},
     "output_type": "execute_result"
    }
   ],
   "source": [
    "df = pd.concat(datas)\n",
    "df.shape"
   ]
  },
  {
   "cell_type": "code",
   "execution_count": 10,
   "metadata": {},
   "outputs": [],
   "source": [
    "train_part = int(df.shape[0] * 0.8)\n",
    "\n",
    "train = df.iloc[:train_part]\n",
    "test = df.iloc[train_part:]"
   ]
  },
  {
   "cell_type": "code",
   "execution_count": 114,
   "metadata": {},
   "outputs": [],
   "source": [
    "from keras.layers import Input, Dense, Reshape\n",
    "from keras.models import Model\n",
    "\n",
    "def create_dense_ae():\n",
    "    \n",
    "    input_dim = 108\n",
    "    \n",
    "    encoding_dim_1 = 10\n",
    "    encoding_dim_2 = 5\n",
    "    encoding_dim_3 = 3\n",
    "    \n",
    "    input_l = Input(shape=(input_dim,))\n",
    "    \n",
    "    encoded_1 = Dense(encoding_dim_1, activation='sigmoid')(input_l)\n",
    "    encoded_2 = Dense(encoding_dim_2, activation='relu')(encoded_1)\n",
    "    encoded_3 = Dense(encoding_dim_3, activation='linear')(encoded_2)\n",
    "    \n",
    "    input_encoded = Input(shape=(encoding_dim_3,))\n",
    "    \n",
    "    decoded_1 = Dense(encoding_dim_2, activation='sigmoid')(input_encoded)\n",
    "    decoded_2 = Dense(encoding_dim_1, activation='relu')(decoded_1)\n",
    "    decoded_3 = Dense(input_dim, activation='sigmoid')(input_encoded)\n",
    "    \n",
    "    encoder = Model(input_l, encoded_3, name=\"encoder\")\n",
    "    decoder = Model(input_encoded, decoded_3, name=\"decoder\")\n",
    "    \n",
    "    autoencoder = Model(input_l, decoder(encoder(input_l)), name=\"autoencoder\")\n",
    "    \n",
    "    return encoder, decoder, autoencoder"
   ]
  },
  {
   "cell_type": "code",
   "execution_count": 115,
   "metadata": {},
   "outputs": [],
   "source": [
    "encoder, decoder, autoencoder = create_dense_ae()"
   ]
  },
  {
   "cell_type": "code",
   "execution_count": 116,
   "metadata": {},
   "outputs": [],
   "source": [
    "autoencoder.compile(optimizer='adam', loss='binary_crossentropy')"
   ]
  },
  {
   "cell_type": "code",
   "execution_count": 117,
   "metadata": {
    "scrolled": true
   },
   "outputs": [
    {
     "name": "stdout",
     "output_type": "stream",
     "text": [
      "Train on 425446 samples, validate on 106362 samples\n",
      "Epoch 1/10\n",
      "425446/425446 [==============================] - 22s 53us/step - loss: 0.0918 - val_loss: 0.0294\n",
      "Epoch 2/10\n",
      "425446/425446 [==============================] - 21s 49us/step - loss: 0.0346 - val_loss: 0.0234\n",
      "Epoch 3/10\n",
      "425446/425446 [==============================] - 21s 49us/step - loss: 0.0289 - val_loss: 0.0211\n",
      "Epoch 4/10\n",
      "425446/425446 [==============================] - 22s 51us/step - loss: 0.0266 - val_loss: 0.0186\n",
      "Epoch 5/10\n",
      "425446/425446 [==============================] - 21s 49us/step - loss: 0.0209 - val_loss: 0.0136\n",
      "Epoch 6/10\n",
      "425446/425446 [==============================] - 22s 51us/step - loss: 0.0175 - val_loss: 0.0118\n",
      "Epoch 7/10\n",
      "425446/425446 [==============================] - 21s 50us/step - loss: 0.0161 - val_loss: 0.0111\n",
      "Epoch 8/10\n",
      "425446/425446 [==============================] - 22s 51us/step - loss: 0.0152 - val_loss: 0.0105\n",
      "Epoch 9/10\n",
      "425446/425446 [==============================] - 22s 51us/step - loss: 0.0145 - val_loss: 0.0099\n",
      "Epoch 10/10\n",
      "425446/425446 [==============================] - 22s 51us/step - loss: 0.0139 - val_loss: 0.0094\n"
     ]
    },
    {
     "data": {
      "text/plain": [
       "<keras.callbacks.History at 0x5d290c88>"
      ]
     },
     "execution_count": 117,
     "metadata": {},
     "output_type": "execute_result"
    }
   ],
   "source": [
    "autoencoder.fit(train, train, epochs=10, batch_size=256,\n",
    "                shuffle=True, validation_data=(test, test))"
   ]
  },
  {
   "cell_type": "code",
   "execution_count": 212,
   "metadata": {},
   "outputs": [],
   "source": [
    "from keras.models import Sequential\n",
    "from keras.layers import Dropout\n",
    "from keras.layers import LSTM\n",
    "from sklearn.metrics import mean_squared_error"
   ]
  },
  {
   "cell_type": "code",
   "execution_count": 94,
   "metadata": {},
   "outputs": [],
   "source": [
    "def create_dataset(dataset, look_back=1):\n",
    "    dataX, dataY = [], []\n",
    "    for i in range(len(dataset)-look_back-1):\n",
    "        a = dataset[i:(i+look_back), :]\n",
    "        dataX.append(a)\n",
    "        dataY.append(dataset[i + look_back, :])\n",
    "    return np.array(dataX), np.array(dataY)"
   ]
  },
  {
   "cell_type": "code",
   "execution_count": null,
   "metadata": {},
   "outputs": [],
   "source": [
    "# for all songs\n",
    "# encode with encoder\n",
    "# use as train set for LSTM\n",
    "\n",
    "# work mode:\n",
    "# frame->encode->to LSTM->decode-> ???? -> PROFIT!b"
   ]
  },
  {
   "cell_type": "code",
   "execution_count": 118,
   "metadata": {
    "scrolled": true
   },
   "outputs": [],
   "source": [
    "lstm_train_datas = list()\n",
    "for d in datas:\n",
    "    encoded_data = encoder.predict(d)\n",
    "    lstm_train_datas.append(encoded_data)\n",
    "\n"
   ]
  },
  {
   "cell_type": "code",
   "execution_count": 119,
   "metadata": {},
   "outputs": [],
   "source": [
    "lstm_dataset = [create_dataset(i) for i in lstm_train_datas]"
   ]
  },
  {
   "cell_type": "code",
   "execution_count": 231,
   "metadata": {
    "scrolled": true
   },
   "outputs": [
    {
     "name": "stdout",
     "output_type": "stream",
     "text": [
      "Epoch 1/1\n",
      "5120/5120 [==============================] - 76s 15ms/step - loss: 0.0071\n",
      "\n",
      "Next track\n",
      "Epoch 1/1\n",
      "7296/7296 [==============================] - 85s 12ms/step - loss: 0.0070\n",
      "\n",
      "Next track\n",
      "Epoch 1/1\n",
      "7296/7296 [==============================] - 85s 12ms/step - loss: 0.0039\n",
      "\n",
      "Next track\n",
      "Epoch 1/1\n",
      "7552/7552 [==============================] - 87s 12ms/step - loss: 0.0021\n",
      "\n",
      "Next track\n",
      "Epoch 1/1\n",
      "5376/5376 [==============================] - 62s 12ms/step - loss: 0.0021\n",
      "\n",
      "Next track\n"
     ]
    }
   ],
   "source": [
    "look_back = 1\n",
    "features_num = encoder.output_shape[1]\n",
    "\n",
    "# TEMP\n",
    "features_num = 108\n",
    "lstm_dataset = [create_dataset(i.as_matrix()) for i in datas]\n",
    "###\n",
    "\n",
    "lstm_model = Sequential()\n",
    "lstm_model.add(LSTM(512, return_sequences=True, input_shape=(look_back, features_num)))\n",
    "lstm_model.add(Dropout(0.3))\n",
    "lstm_model.add(LSTM(512, return_sequences=True))\n",
    "lstm_model.add(Dropout(0.3))\n",
    "lstm_model.add(LSTM(512))\n",
    "lstm_model.add(Dense(256))\n",
    "lstm_model.add(Dropout(0.3))\n",
    "lstm_model.add(Dense(features_num, activation='softmax'))\n",
    "lstm_model.compile(loss='mean_squared_error', optimizer='adam')\n",
    "\n",
    "\n",
    "for batch in lstm_dataset[:5]:\n",
    "    lstm_model.fit(batch[0], batch[1], epochs=1)\n",
    "#     lstm_model.train_on_batch(batch[0], batch[1])\n",
    "    print('\\nNext track')"
   ]
  },
  {
   "cell_type": "code",
   "execution_count": 248,
   "metadata": {},
   "outputs": [
    {
     "name": "stdout",
     "output_type": "stream",
     "text": [
      "Epoch 1/1\n",
      "2304/2304 [==============================] - 27s 12ms/step - loss: 0.0088\n",
      "Epoch 1/1\n",
      "14208/14208 [==============================] - 166s 12ms/step - loss: 0.0048\n",
      "Epoch 1/1\n",
      "5120/5120 [==============================] - 59s 12ms/step - loss: 0.0075\n",
      "Epoch 1/1\n",
      "8704/8704 [==============================] - 102s 12ms/step - loss: 0.0044\n",
      "Epoch 1/1\n",
      "8832/8832 [==============================] - 103s 12ms/step - loss: 0.0028\n",
      "Epoch 1/1\n",
      "6912/6912 [==============================] - 81s 12ms/step - loss: 0.0012\n",
      "Epoch 1/1\n",
      "4992/4992 [==============================] - 58s 12ms/step - loss: 0.0025\n",
      "Epoch 1/1\n",
      "17920/17920 [==============================] - 212s 12ms/step - loss: 0.0013\n",
      "Epoch 1/1\n",
      "7808/7808 [==============================] - 93s 12ms/step - loss: 0.0012\n",
      "Epoch 1/1\n",
      "7808/7808 [==============================] - 93s 12ms/step - loss: 9.6569e-04\n",
      "Epoch 1/1\n",
      "3712/3712 [==============================] - 45s 12ms/step - loss: 0.0022\n",
      "Epoch 1/1\n",
      "2560/2560 [==============================] - 31s 12ms/step - loss: 4.9432e-04\n",
      "Epoch 1/1\n",
      "4352/4352 [==============================] - 52s 12ms/step - loss: 8.4496e-04\n",
      "Epoch 1/1\n",
      "7168/7168 [==============================] - 88s 12ms/step - loss: 0.0051\n",
      "Epoch 1/1\n",
      "8704/8704 [==============================] - 103s 12ms/step - loss: 0.0032\n",
      "Epoch 1/1\n",
      "1920/1920 [==============================] - 23s 12ms/step - loss: 0.0085\n",
      "Epoch 1/1\n",
      "2688/2688 [==============================] - 32s 12ms/step - loss: 0.0028\n",
      "Epoch 1/1\n",
      "17664/17664 [==============================] - 210s 12ms/step - loss: 0.0026\n",
      "Epoch 1/1\n",
      "30720/30720 [==============================] - 364s 12ms/step - loss: 0.0020\n",
      "Epoch 1/1\n",
      "30848/30848 [==============================] - 369s 12ms/step - loss: 0.0019\n",
      "Epoch 1/1\n",
      "28800/28800 [==============================] - 346s 12ms/step - loss: 0.0060\n",
      "Epoch 1/1\n",
      "10112/10112 [==============================] - 123s 12ms/step - loss: 0.0024\n",
      "Epoch 1/1\n",
      "12672/12672 [==============================] - 152s 12ms/step - loss: 0.0012\n",
      "Epoch 1/1\n",
      "10624/10624 [==============================] - 135s 13ms/step - loss: 0.0013\n",
      "Epoch 1/1\n",
      "17664/17664 [==============================] - 248s 14ms/step - loss: 0.0050\n",
      "Epoch 1/1\n",
      "28032/28032 [==============================] - 387s 14ms/step - loss: 9.4787e-04\n",
      "Epoch 1/1\n",
      "7168/7168 [==============================] - 91s 13ms/step - loss: 5.2377e-04\n",
      "Epoch 1/1\n",
      "2688/2688 [==============================] - 35s 13ms/step - loss: 0.0066\n",
      "Epoch 1/1\n",
      "7424/7424 [==============================] - 97s 13ms/step - loss: 0.0028\n",
      "Epoch 1/1\n",
      "35456/35456 [==============================] - 459s 13ms/step - loss: 0.0013\n",
      "Epoch 1/1\n",
      "4096/4096 [==============================] - 51s 12ms/step - loss: 0.0013\n",
      "Epoch 1/1\n",
      "3072/3072 [==============================] - 38s 12ms/step - loss: 0.0014\n",
      "Epoch 1/1\n",
      "7296/7296 [==============================] - 94s 13ms/step - loss: 0.0022\n",
      "Epoch 1/1\n",
      "18816/18816 [==============================] - 242s 13ms/step - loss: 9.7126e-04\n",
      "Epoch 1/1\n",
      "8320/8320 [==============================] - 111s 13ms/step - loss: 0.0049\n",
      "Epoch 1/1\n",
      "8320/8320 [==============================] - 109s 13ms/step - loss: 0.0016\n",
      "Epoch 1/1\n",
      "4480/4480 [==============================] - 59s 13ms/step - loss: 0.0037\n",
      "Epoch 1/1\n",
      "17664/17664 [==============================] - 267s 15ms/step - loss: 0.0022\n",
      "Epoch 1/1\n",
      "16640/16640 [==============================] - 241s 14ms/step - loss: 0.0017\n",
      "Epoch 1/1\n",
      "13696/13696 [==============================] - 184s 13ms/step - loss: 0.0020\n",
      "Epoch 1/1\n",
      "17536/17536 [==============================] - 236s 13ms/step - loss: 0.0011\n",
      "Epoch 1/1\n",
      "9856/9856 [==============================] - 127s 13ms/step - loss: 0.0012\n",
      "Epoch 1/1\n",
      "13696/13696 [==============================] - 178s 13ms/step - loss: 0.0012\n"
     ]
    }
   ],
   "source": [
    "\n",
    "for batch in lstm_dataset[5:]:\n",
    "    lstm_model.fit(batch[0], batch[1], epochs=1)"
   ]
  },
  {
   "cell_type": "code",
   "execution_count": 251,
   "metadata": {},
   "outputs": [],
   "source": [
    "# https://towardsdatascience.com/how-to-generate-music-using-a-lstm-neural-network-in-keras-68786834d4c5\n",
    "lstm_model.save('lstm-only.h5')\n",
    "# from keras.models import load_model\n",
    "# lstm_model = load_model"
   ]
  },
  {
   "cell_type": "code",
   "execution_count": 20,
   "metadata": {},
   "outputs": [],
   "source": [
    "START = datas[0].iloc[0].as_matrix()\n",
    "END = datas[0].iloc[-1].as_matrix()"
   ]
  },
  {
   "cell_type": "code",
   "execution_count": 234,
   "metadata": {},
   "outputs": [],
   "source": [
    "# # TEMP\n",
    "def predict(timestep):\n",
    "    return lstm_model.predict(timestep.reshape(1,-1)[np.newaxis,:])"
   ]
  },
  {
   "cell_type": "code",
   "execution_count": 106,
   "metadata": {},
   "outputs": [],
   "source": [
    "\n",
    "\n",
    "def predict(timestep):\n",
    "    encoded = encoder.predict(timestep.reshape(1,-1))\n",
    "    prediction = lstm_model.predict(encoded[np.newaxis, :])\n",
    "    return decoder.predict(prediction)\n",
    "\n",
    "def threshold(timestep, thresh=0.5):\n",
    "    timestep[timestep >= thresh] = 1\n",
    "    timestep[timestep <= thresh] = 0\n",
    "    return timestep"
   ]
  },
  {
   "cell_type": "code",
   "execution_count": 278,
   "metadata": {},
   "outputs": [
    {
     "ename": "NameError",
     "evalue": "name 'f' is not defined",
     "output_type": "error",
     "traceback": [
      "\u001b[1;31m---------------------------------------------------------------------------\u001b[0m",
      "\u001b[1;31mNameError\u001b[0m                                 Traceback (most recent call last)",
      "\u001b[1;32m<ipython-input-278-a9fcd54b25e7>\u001b[0m in \u001b[0;36m<module>\u001b[1;34m()\u001b[0m\n\u001b[1;32m----> 1\u001b[1;33m \u001b[0mf\u001b[0m\u001b[1;33m\u001b[0m\u001b[0m\n\u001b[0m",
      "\u001b[1;31mNameError\u001b[0m: name 'f' is not defined"
     ]
    }
   ],
   "source": [
    "np.random.uniform(size=(1,108))"
   ]
  },
  {
   "cell_type": "code",
   "execution_count": 287,
   "metadata": {},
   "outputs": [],
   "source": [
    "song = list()\n",
    "last_step = START#train.iloc[1].as_matrix()\n",
    "for i in range(500):\n",
    "    prediction = predict(last_step + np.random.uniform(low=-1.0, size=(1,108)))\n",
    "    song.append(prediction)\n",
    "    last_step = prediction"
   ]
  },
  {
   "cell_type": "code",
   "execution_count": 267,
   "metadata": {},
   "outputs": [],
   "source": [
    "out1 = predict(np.array([1] * 108))\n",
    "out2 = predict(END)\n",
    "out3 = predict(out2)\n",
    "out4 = predict(out3)"
   ]
  },
  {
   "cell_type": "code",
   "execution_count": 269,
   "metadata": {},
   "outputs": [
    {
     "data": {
      "text/plain": [
       "72"
      ]
     },
     "execution_count": 269,
     "metadata": {},
     "output_type": "execute_result"
    }
   ],
   "source": [
    "np.argmax(out1)"
   ]
  },
  {
   "cell_type": "code",
   "execution_count": 286,
   "metadata": {},
   "outputs": [
    {
     "data": {
      "text/plain": [
       "0.009259259"
      ]
     },
     "execution_count": 286,
     "metadata": {},
     "output_type": "execute_result"
    }
   ],
   "source": [
    "np.mean(song)"
   ]
  },
  {
   "cell_type": "code",
   "execution_count": 285,
   "metadata": {},
   "outputs": [
    {
     "data": {
      "text/plain": [
       "1.0"
      ]
     },
     "execution_count": 285,
     "metadata": {},
     "output_type": "execute_result"
    }
   ],
   "source": [
    "np.max(song)"
   ]
  },
  {
   "cell_type": "code",
   "execution_count": 292,
   "metadata": {},
   "outputs": [],
   "source": [
    "def process(data):\n",
    "    base_labels = 'c c# d d# e f f# g g# a a# b'.split()\n",
    "\n",
    "    # note_label + octave_num\n",
    "    features = np.array([l + str(i) for i in range(0,9) for l in base_labels])\n",
    "    song = []\n",
    "    for i in data:\n",
    "#         if  np.argmax(i) in list(range(9)):\n",
    "#             continue\n",
    "        song.append((features[np.argmax(i)], 4))\n",
    "    return song"
   ]
  },
  {
   "cell_type": "code",
   "execution_count": 188,
   "metadata": {},
   "outputs": [],
   "source": [
    "a = np.array([2,34,5])"
   ]
  },
  {
   "cell_type": "code",
   "execution_count": 193,
   "metadata": {},
   "outputs": [
    {
     "data": {
      "text/plain": [
       "True"
      ]
     },
     "execution_count": 193,
     "metadata": {},
     "output_type": "execute_result"
    }
   ],
   "source": [
    "[2,3,4] in a"
   ]
  },
  {
   "cell_type": "code",
   "execution_count": 290,
   "metadata": {
    "scrolled": true
   },
   "outputs": [],
   "source": []
  },
  {
   "cell_type": "code",
   "execution_count": 275,
   "metadata": {},
   "outputs": [
    {
     "data": {
      "text/plain": [
       "{('c6', 128)}"
      ]
     },
     "execution_count": 275,
     "metadata": {},
     "output_type": "execute_result"
    }
   ],
   "source": [
    "set(play)"
   ]
  },
  {
   "cell_type": "code",
   "execution_count": 23,
   "metadata": {},
   "outputs": [],
   "source": [
    "import matplotlib.pyplot as plt"
   ]
  },
  {
   "cell_type": "code",
   "execution_count": null,
   "metadata": {
    "collapsed": true
   },
   "outputs": [],
   "source": []
  },
  {
   "cell_type": "code",
   "execution_count": 288,
   "metadata": {},
   "outputs": [
    {
     "data": {
      "image/png": "[encoded data removed]",
      "text/plain": [
       "<matplotlib.figure.Figure at 0x95529f98>"
      ]
     },
     "metadata": {},
     "output_type": "display_data"
    }
   ],
   "source": [
    "s = np.array(song)\n",
    "plt.figure(figsize=(10,14))\n",
    "plt.imshow(np.exp(s[:100].reshape(100, -1)))\n",
    "plt.show()"
   ]
  },
  {
   "cell_type": "code",
   "execution_count": 175,
   "metadata": {
    "scrolled": true
   },
   "outputs": [
    {
     "name": "stdout",
     "output_type": "stream",
     "text": [
      "Piano key frequencies (for equal temperament):\n",
      "Key number\tScientific name\tFrequency (Hz)\n",
      "         1\t             A0\t         27.50\n",
      "         2\t            A#0\t         29.14\n",
      "         3\t             B0\t         30.87\n",
      "         4\t             C1\t         32.70\n",
      "         5\t            C#1\t         34.65\n",
      "         6\t             D1\t         36.71\n",
      "         7\t            D#1\t         38.89\n",
      "         8\t             E1\t         41.20\n",
      "         9\t             F1\t         43.65\n",
      "        10\t            F#1\t         46.25\n",
      "        11\t             G1\t         49.00\n",
      "        12\t            G#1\t         51.91\n",
      "        13\t             A1\t         55.00\n",
      "        14\t            A#1\t         58.27\n",
      "        15\t             B1\t         61.74\n",
      "        16\t             C2\t         65.41\n",
      "        17\t            C#2\t         69.30\n",
      "        18\t             D2\t         73.42\n",
      "        19\t            D#2\t         77.78\n",
      "        20\t             E2\t         82.41\n",
      "        21\t             F2\t         87.31\n",
      "        22\t            F#2\t         92.50\n",
      "        23\t             G2\t         98.00\n",
      "        24\t            G#2\t        103.83\n",
      "        25\t             A2\t        110.00\n",
      "        26\t            A#2\t        116.54\n",
      "        27\t             B2\t        123.47\n",
      "        28\t             C3\t        130.81\n",
      "        29\t            C#3\t        138.59\n",
      "        30\t             D3\t        146.83\n",
      "        31\t            D#3\t        155.56\n",
      "        32\t             E3\t        164.81\n",
      "        33\t             F3\t        174.61\n",
      "        34\t            F#3\t        185.00\n",
      "        35\t             G3\t        196.00\n",
      "        36\t            G#3\t        207.65\n",
      "        37\t             A3\t        220.00\n",
      "        38\t            A#3\t        233.08\n",
      "        39\t             B3\t        246.94\n",
      "        40\t             C4\t        261.63\n",
      "        41\t            C#4\t        277.18\n",
      "        42\t             D4\t        293.66\n",
      "        43\t            D#4\t        311.13\n",
      "        44\t             E4\t        329.63\n",
      "        45\t             F4\t        349.23\n",
      "        46\t            F#4\t        369.99\n",
      "        47\t             G4\t        392.00\n",
      "        48\t            G#4\t        415.30\n",
      "        49\t             A4\t        440.00\n",
      "        50\t            A#4\t        466.16\n",
      "        51\t             B4\t        493.88\n",
      "        52\t             C5\t        523.25\n",
      "        53\t            C#5\t        554.37\n",
      "        54\t             D5\t        587.33\n",
      "        55\t            D#5\t        622.25\n",
      "        56\t             E5\t        659.26\n",
      "        57\t             F5\t        698.46\n",
      "        58\t            F#5\t        739.99\n",
      "        59\t             G5\t        783.99\n",
      "        60\t            G#5\t        830.61\n",
      "        61\t             A5\t        880.00\n",
      "        62\t            A#5\t        932.33\n",
      "        63\t             B5\t        987.77\n",
      "        64\t             C6\t       1046.50\n",
      "        65\t            C#6\t       1108.73\n",
      "        66\t             D6\t       1174.66\n",
      "        67\t            D#6\t       1244.51\n",
      "        68\t             E6\t       1318.51\n",
      "        69\t             F6\t       1396.91\n",
      "        70\t            F#6\t       1479.98\n",
      "        71\t             G6\t       1567.98\n",
      "        72\t            G#6\t       1661.22\n",
      "        73\t             A6\t       1760.00\n",
      "        74\t            A#6\t       1864.66\n",
      "        75\t             B6\t       1975.53\n",
      "        76\t             C7\t       2093.00\n",
      "        77\t            C#7\t       2217.46\n",
      "        78\t             D7\t       2349.32\n",
      "        79\t            D#7\t       2489.02\n",
      "        80\t             E7\t       2637.02\n",
      "        81\t             F7\t       2793.83\n",
      "        82\t            F#7\t       2959.96\n",
      "        83\t             G7\t       3135.96\n",
      "        84\t            G#7\t       3322.44\n",
      "        85\t             A7\t       3520.00\n",
      "        86\t            A#7\t       3729.31\n",
      "        87\t             B7\t       3951.07\n",
      "        88\t             C8\t       4186.01\n"
     ]
    }
   ],
   "source": [
    "import pysynth"
   ]
  },
  {
   "cell_type": "code",
   "execution_count": 294,
   "metadata": {
    "scrolled": true
   },
   "outputs": [
    {
     "name": "stdout",
     "output_type": "stream",
     "text": [
      "[1/500]\t\n",
      "[5/500]\t\n",
      "[9/500]\t\n",
      "[13/500]\t\n",
      "[17/500]\t\n",
      "[21/500]\t\n",
      "[25/500]\t\n",
      "[29/500]\t\n",
      "[33/500]\t\n",
      "[37/500]\t\n",
      "[41/500]\t\n",
      "[45/500]\t\n",
      "[49/500]\t\n",
      "[53/500]\t\n",
      "[57/500]\t\n",
      "[61/500]\t\n",
      "[65/500]\t\n",
      "[69/500]\t\n",
      "[73/500]\t\n",
      "[77/500]\t\n",
      "[81/500]\t\n",
      "[85/500]\t\n",
      "[89/500]\t\n",
      "[93/500]\t\n",
      "[97/500]\t\n",
      "[101/500]\t\n",
      "[105/500]\t\n",
      "[109/500]\t\n",
      "[113/500]\t\n",
      "[117/500]\t\n",
      "[121/500]\t\n",
      "[125/500]\t\n",
      "[129/500]\t\n",
      "[133/500]\t\n",
      "[137/500]\t\n",
      "[141/500]\t\n",
      "[145/500]\t\n",
      "[149/500]\t\n",
      "[153/500]\t\n",
      "[157/500]\t\n",
      "[161/500]\t\n",
      "[165/500]\t\n",
      "[169/500]\t\n",
      "[173/500]\t\n",
      "[177/500]\t\n",
      "[181/500]\t\n",
      "[185/500]\t\n",
      "[189/500]\t\n",
      "[193/500]\t\n",
      "[197/500]\t\n",
      "[201/500]\t\n",
      "[205/500]\t\n",
      "[209/500]\t\n",
      "[213/500]\t\n",
      "[217/500]\t\n",
      "[221/500]\t\n",
      "[225/500]\t\n",
      "[229/500]\t\n",
      "[233/500]\t\n",
      "[237/500]\t\n",
      "[241/500]\t\n",
      "[245/500]\t\n",
      "[249/500]\t\n",
      "[253/500]\t\n",
      "[257/500]\t\n",
      "[261/500]\t\n",
      "[265/500]\t\n",
      "[269/500]\t\n",
      "[273/500]\t\n",
      "[277/500]\t\n",
      "[281/500]\t\n",
      "[285/500]\t\n",
      "[289/500]\t\n",
      "[293/500]\t\n",
      "[297/500]\t\n",
      "[301/500]\t\n",
      "[305/500]\t\n",
      "[309/500]\t\n",
      "[313/500]\t\n",
      "[317/500]\t\n",
      "[321/500]\t\n",
      "[325/500]\t\n",
      "[329/500]\t\n",
      "[333/500]\t\n",
      "[337/500]\t\n",
      "[341/500]\t\n",
      "[345/500]\t\n",
      "[349/500]\t\n",
      "[353/500]\t\n",
      "[357/500]\t\n",
      "[361/500]\t\n",
      "[365/500]\t\n",
      "[369/500]\t\n",
      "[373/500]\t\n",
      "[377/500]\t\n",
      "[381/500]\t\n",
      "[385/500]\t\n",
      "[389/500]\t\n",
      "[393/500]\t\n",
      "[397/500]\t\n",
      "[401/500]\t\n",
      "[405/500]\t\n",
      "[409/500]\t\n",
      "[413/500]\t\n",
      "[417/500]\t\n",
      "[421/500]\t\n",
      "[425/500]\t\n",
      "[429/500]\t\n",
      "[433/500]\t\n",
      "[437/500]\t\n",
      "[441/500]\t\n",
      "[445/500]\t\n",
      "[449/500]\t\n",
      "[453/500]\t\n",
      "[457/500]\t\n",
      "[461/500]\t\n",
      "[465/500]\t\n",
      "[469/500]\t\n",
      "[473/500]\t\n",
      "[477/500]\t\n",
      "[481/500]\t\n",
      "[485/500]\t\n",
      "[489/500]\t\n",
      "[493/500]\t\n",
      "[497/500]\t\n",
      "Writing to file out-v6.wav\n",
      "\n"
     ]
    }
   ],
   "source": [
    "import pysynth_b as synth\n",
    "play = process(song)\n",
    "synth.make_wav(play, fn='out-v6.wav')"
   ]
  },
  {
   "cell_type": "code",
   "execution_count": null,
   "metadata": {
    "collapsed": true
   },
   "outputs": [],
   "source": []
  }
 ],
 "metadata": {
  "kernelspec": {
   "display_name": "Python 3",
   "language": "python",
   "name": "python3"
  },
  "language_info": {
   "codemirror_mode": {
    "name": "ipython",
    "version": 3
   },
   "file_extension": ".py",
   "mimetype": "text/x-python",
   "name": "python",
   "nbconvert_exporter": "python",
   "pygments_lexer": "ipython3",
   "version": "3.6.4"
  }
 },
 "nbformat": 4,
 "nbformat_minor": 2
}
