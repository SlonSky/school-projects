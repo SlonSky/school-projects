{
 "cells": [
  {
   "cell_type": "markdown",
   "metadata": {},
   "source": [
    "# Лабораторная работа №Х\n",
    "## \"Работа со сверточными нейронными сетями на Keras\"\n"
   ]
  },
  {
   "cell_type": "markdown",
   "metadata": {},
   "source": [
    "Одесса - 2018"
   ]
  },
  {
   "cell_type": "markdown",
   "metadata": {},
   "source": [
    "Связаться: TG @aionaction"
   ]
  },
  {
   "cell_type": "markdown",
   "metadata": {},
   "source": [
    "Дисклеймер: некоторые рекомендации и утверждения могут быть некорректными. Пожалуйста, загуглите об этом, перед тем, как использовать это на практике."
   ]
  },
  {
   "cell_type": "markdown",
   "metadata": {},
   "source": [
    "Цель: научиться подготавливать данные для обучения сверточной нейронной сети; научиться строить и обучать модели с ипользованием библиотеки Keras, а также оценивать их качество.\n",
    "\n",
    "Задание:\n",
    "1. Ознакомиться с примером обучения нейронной сети на данных [NOT-MNIST](http://yaroslavvb.com/upload/notMNIST/)\n",
    "2. Выполнить самостоятельно задание по обучению нейронности сети на данных MNIST\n",
    "3. Сделать выводы о методике работы со сверточными нейронными сетями (а именно: подготовка данных, построение и обучение модели, оценка качества модели)"
   ]
  },
  {
   "cell_type": "markdown",
   "metadata": {},
   "source": [
    "Теория: [1](https://adeshpande3.github.io/adeshpande3.github.io/A-Beginner's-Guide-To-Understanding-Convolutional-Neural-Networks/)\n",
    "[2](https://adeshpande3.github.io/A-Beginner%27s-Guide-To-Understanding-Convolutional-Neural-Networks-Part-2/)"
   ]
  },
  {
   "cell_type": "markdown",
   "metadata": {},
   "source": [
    "В качестве примера используется датасет NOT-MNIST, состоящий из разнообразных сгенерированных изображений 10 символов латиницы. Данный датасет предлагается в качестве альтернативы более стандартному и менее разнообразному датасету MNIST (коллекция изображений 10 рукописных цифр)\n",
    "\n",
    "Для самостоятельного задания предлагается использовать датасет MNIST ввиду невысокой сложности необходимой модели для получения примелемого качества классификации"
   ]
  },
  {
   "cell_type": "markdown",
   "metadata": {},
   "source": [
    "Подключим основные модули, которые будут использоваться. Если ошибка появилась тут, то нужно доустановить модули."
   ]
  },
  {
   "cell_type": "code",
   "execution_count": 1,
   "metadata": {},
   "outputs": [
    {
     "name": "stderr",
     "output_type": "stream",
     "text": [
      "Using TensorFlow backend.\n"
     ]
    }
   ],
   "source": [
    "import os\n",
    "import matplotlib.pyplot as plt\n",
    "from matplotlib.cm import Greys\n",
    "\n",
    "import numpy as np\n",
    "\n",
    "import keras\n",
    "import sklearn"
   ]
  },
  {
   "cell_type": "markdown",
   "metadata": {},
   "source": [
    "Загрузим изображения из файловой системы. Мы используем функцию `os.path.join` для конкатенации путей независимо от ОС, на которой запускается наш код (например, для Linux пути типа \"path/to/file.txt\", а в Windows - \"path\\to\\file.txt\")"
   ]
  },
  {
   "cell_type": "code",
   "execution_count": 2,
   "metadata": {},
   "outputs": [],
   "source": [
    "def load_not_mnist(non_mnist_path):\n",
    "    letters = os.listdir(non_mnist_path)\n",
    "    \n",
    "    X = list()\n",
    "    Y = list()\n",
    "    codes = dict()\n",
    "    \n",
    "    for index, letter in enumerate(letters):\n",
    "        \n",
    "        letter_dir = os.path.join(non_mnist_path, letter)\n",
    "        letter_imgs = list()\n",
    "        \n",
    "        for img in os.listdir(letter_dir):\n",
    "            \n",
    "            img_path = os.path.join(non_mnist_path, os.path.join(letter, img))            \n",
    "            letter_imgs.append(plt.imread(img_path, format='png'))\n",
    "        \n",
    "        # immadiantely transform to np.ndarray\n",
    "        # for simple further transformations\n",
    "        X.append(np.array(letter_imgs))\n",
    "        Y.append(np.full(shape=(len(letter_imgs), 1), fill_value=index))\n",
    "        \n",
    "        # store letter label - numeric mark\n",
    "        # for fancy output during prediction\n",
    "        codes[letter] = index\n",
    "        \n",
    "        print(\"Loaded:\", letter)\n",
    "    \n",
    "    # concatenate list of np.ndarray's \n",
    "    # to make a \"stack\" of images\n",
    "    return np.concatenate(X), np.concatenate(Y), codes"
   ]
  },
  {
   "cell_type": "code",
   "execution_count": 3,
   "metadata": {},
   "outputs": [
    {
     "name": "stdout",
     "output_type": "stream",
     "text": [
      "Loaded: A\n",
      "Loaded: B\n",
      "Loaded: C\n",
      "Loaded: D\n",
      "Loaded: E\n",
      "Loaded: F\n",
      "Loaded: G\n",
      "Loaded: H\n",
      "Loaded: I\n",
      "Loaded: J\n"
     ]
    }
   ],
   "source": [
    "non_mnist_path = 'not-mnist'\n",
    "\n",
    "X, Y, codes = load_not_mnist(non_mnist_path)"
   ]
  },
  {
   "cell_type": "markdown",
   "metadata": {},
   "source": [
    "Проверяем формат данных.\n",
    "\n",
    "Видим, что получили массив двумерных изображений - следовательно трехмерный массив"
   ]
  },
  {
   "cell_type": "code",
   "execution_count": 4,
   "metadata": {},
   "outputs": [
    {
     "data": {
      "text/plain": [
       "(18724, 28, 28)"
      ]
     },
     "execution_count": 4,
     "metadata": {},
     "output_type": "execute_result"
    }
   ],
   "source": [
    "X.shape"
   ]
  },
  {
   "cell_type": "markdown",
   "metadata": {},
   "source": [
    "Изображение отображается правильно"
   ]
  },
  {
   "cell_type": "code",
   "execution_count": 5,
   "metadata": {},
   "outputs": [
    {
     "data": {
      "image/png": "[encoded data removed]",
      "text/plain": [
       "<Figure size 432x288 with 1 Axes>"
      ]
     },
     "metadata": {
      "needs_background": "light"
     },
     "output_type": "display_data"
    }
   ],
   "source": [
    "plt.imshow(X[0], cmap=Greys);"
   ]
  },
  {
   "cell_type": "markdown",
   "metadata": {},
   "source": [
    "Длина массива меток соответствует длине массива объектов"
   ]
  },
  {
   "cell_type": "code",
   "execution_count": 51,
   "metadata": {},
   "outputs": [
    {
     "data": {
      "text/plain": [
       "(18724, 1)"
      ]
     },
     "execution_count": 51,
     "metadata": {},
     "output_type": "execute_result"
    }
   ],
   "source": [
    "Y.shape"
   ]
  },
  {
   "cell_type": "markdown",
   "metadata": {},
   "source": [
    "Для первой буквы - \"А\", код \"0\""
   ]
  },
  {
   "cell_type": "code",
   "execution_count": 52,
   "metadata": {},
   "outputs": [
    {
     "data": {
      "text/plain": [
       "array([0])"
      ]
     },
     "execution_count": 52,
     "metadata": {},
     "output_type": "execute_result"
    }
   ],
   "source": [
    "Y[0]"
   ]
  },
  {
   "cell_type": "markdown",
   "metadata": {},
   "source": [
    "Обычно, при многоклассовой классификации с помощью нейронных сетей используется бинарная кодировка классов (унитарный код, [one-hot encoding](https://hackernoon.com/what-is-one-hot-encoding-why-and-when-do-you-have-to-use-it-e3c6186d008f))\n",
    "\n",
    "Таким образом каждому классу соответстует отдельный выходной нейрон.\n",
    "\n",
    "В итоге по выходам сети мы получаем \"уверенность\" нейронной сети в том, что входной образ принадлежит определенному классу. Выходы так же можно интерпретировать, как вероятность принадлежности объекта классу.\n",
    "\n",
    "Среди прочих утилит, Keras предоставляет функцию `to_categorical` (которая использована ниже), которая и совершает такое преобразование. "
   ]
  },
  {
   "cell_type": "code",
   "execution_count": 7,
   "metadata": {},
   "outputs": [],
   "source": [
    "from keras.utils import to_categorical\n",
    "from sklearn.model_selection import train_test_split"
   ]
  },
  {
   "cell_type": "code",
   "execution_count": 53,
   "metadata": {},
   "outputs": [],
   "source": [
    "Y_categ = to_categorical(Y).astype(np.float32)"
   ]
  },
  {
   "cell_type": "markdown",
   "metadata": {},
   "source": [
    "Можно увидеть, что теперь мы получили 10 колонок вместо 1, как выше. \n",
    "\n",
    "Для первого класса, соответственно, видим код с 1 в колонке, соответствующей первому классу, и 0 - для остальных."
   ]
  },
  {
   "cell_type": "code",
   "execution_count": 54,
   "metadata": {},
   "outputs": [
    {
     "data": {
      "text/plain": [
       "(18724, 10)"
      ]
     },
     "execution_count": 54,
     "metadata": {},
     "output_type": "execute_result"
    }
   ],
   "source": [
    "Y_categ.shape"
   ]
  },
  {
   "cell_type": "code",
   "execution_count": 56,
   "metadata": {},
   "outputs": [
    {
     "data": {
      "text/plain": [
       "array([1., 0., 0., 0., 0., 0., 0., 0., 0., 0.], dtype=float32)"
      ]
     },
     "execution_count": 56,
     "metadata": {},
     "output_type": "execute_result"
    }
   ],
   "source": [
    "Y_categ[0]"
   ]
  },
  {
   "cell_type": "markdown",
   "metadata": {},
   "source": [
    "Далее, нам необходимо нормализовать признаки входных образов (из целочисленных 0..255 в 0..1 вещественных чисел). \n",
    "\n",
    "Это позволит нейронной сети быстрее сходиться (вспоминаем градиентный спуск: в формуле мы умножаем антиградиент на входные параметры; таким образом, приращения весов часто будут большими и мы рискуем постоянно проскакивать локальные оптимумы, пока веса не увеличатся на несколько порядков)."
   ]
  },
  {
   "cell_type": "code",
   "execution_count": 57,
   "metadata": {},
   "outputs": [],
   "source": [
    "X = X.astype(np.float32) / 255."
   ]
  },
  {
   "cell_type": "markdown",
   "metadata": {},
   "source": [
    "Разобьем выборку на обучающую и тестовую (в соотношении 80/20; с соотношением можно экспериментировать, но опыт показывает, что такое соотношение дает неплохие результаты).\n",
    "\n",
    "Это можно делать вручную, но для удобства используем функцию `sklearn.model_selection.train_test_split`\n",
    "\n",
    "Обратите внимание, что перед разбиением вся выборка случайным образом перемешивается. Вообще, рекомендуется после формирования выборки первым делом ее перемешать, чтобы не возникло ситуации, когда большая часть одного из классов попала в тестовую выборку, а в обучающую - нет, потому что она была в конце массива и этот кусок мы вырезали в тестовую выборку."
   ]
  },
  {
   "cell_type": "code",
   "execution_count": 10,
   "metadata": {},
   "outputs": [],
   "source": [
    "test_rate = 0.2\n",
    "x_train, x_test, y_train, y_test = train_test_split(X, Y_categ, test_size=test_rate, random_state=1, shuffle=True)"
   ]
  },
  {
   "cell_type": "markdown",
   "metadata": {},
   "source": [
    "После разбиения снова проверим корректность данных, чтобы избежать сюрпризов при обучении."
   ]
  },
  {
   "cell_type": "code",
   "execution_count": 11,
   "metadata": {},
   "outputs": [
    {
     "data": {
      "text/plain": [
       "(14979, 28, 28)"
      ]
     },
     "execution_count": 11,
     "metadata": {},
     "output_type": "execute_result"
    }
   ],
   "source": [
    "x_train.shape"
   ]
  },
  {
   "cell_type": "code",
   "execution_count": 12,
   "metadata": {},
   "outputs": [
    {
     "data": {
      "text/plain": [
       "(3745, 28, 28)"
      ]
     },
     "execution_count": 12,
     "metadata": {},
     "output_type": "execute_result"
    }
   ],
   "source": [
    "x_test.shape"
   ]
  },
  {
   "cell_type": "code",
   "execution_count": 13,
   "metadata": {
    "scrolled": true
   },
   "outputs": [
    {
     "data": {
      "image/png": "[encoded data removed]",
      "text/plain": [
       "<Figure size 432x288 with 1 Axes>"
      ]
     },
     "metadata": {
      "needs_background": "light"
     },
     "output_type": "display_data"
    }
   ],
   "source": [
    "plt.imshow(x_train[0], cmap=Greys);"
   ]
  },
  {
   "cell_type": "markdown",
   "metadata": {},
   "source": [
    "Приступим к формированию модели (нейронной сети).\n",
    "\n",
    "Имортируем из Keras нужные инструменты:\n",
    " - Sequential - обозначет последовательную (нереккурентную нейронную сеть)\n",
    " - Dense - полносвязный слой\n",
    " - Conv2D - двумерный сверточный слой\n",
    " - MaxPooling2D - макс-пуллинг слой, который выбирает максимальное значнение из окна\n",
    " - Dropout - специальный слой, который во время каждой итерации обучения \"блокирует\" определенные нейроны из последующего слоя таким образом, что они не учавствуют в обучении; так, нейроны в слое обучаются равномернее и мы снижаем риск переобучения сети\n",
    " - Flatten - преобразует входы любой размерности в одномерный вектор"
   ]
  },
  {
   "cell_type": "code",
   "execution_count": 14,
   "metadata": {},
   "outputs": [],
   "source": [
    "from keras.models import Sequential\n",
    "from keras.layers import Dense, Dropout, Flatten\n",
    "from keras.layers import Conv2D, MaxPooling2D\n",
    "from keras import backend as K"
   ]
  },
  {
   "cell_type": "markdown",
   "metadata": {},
   "source": [
    "Можно увидеть, что модель с помощью Keras строится быстро и просто.\n",
    "\n",
    "Для первого слоя модели всегда указываем `input_shape` (если не используем слой Input)\n",
    "\n",
    "В общем виде, для каждого слоя мы указываем\n",
    "- количество нейронов \n",
    "- размер ядра свертки (для сверточных слоев)\n",
    "- функцию активации\n",
    "\n",
    "Возможные вопросы\n",
    "- Почему для скрытых слоев используем функцию активации `ReLU`? \n",
    "     \n",
    "     Эта функция активации позволяет сигналу распротраняться по слоям далее, не затухая, так как она не ограничивает его сверху (гуглим для деталей)\n",
    "\n",
    "\n",
    "- Почему в последнем слое используем функцию активации `Softmax`?\n",
    "    \n",
    "    Эта функция активации \"мягко\" масштабирует любой сигнал к непрерывной области 0..1, а мы как раз хотим получать такой ответ (\"уверенность\" сети в принадлежности объекту данному классу, где 0 - точно нет, а 1 - точно да)\n",
    "\n",
    "\n",
    "- Почему именно такое количество слоев/нейронов в слоях?\n",
    "\n",
    "    Потому что так надо. Для выбора этих параметров есть ограниченно работающие эвристики, но общее правило - это опираться на интуицию и экспериментировать. Например, для сложных данных (в готовых данных много признаков, специфическая предметная область, априорные знания о распределении объектов и т.п.), часто необходимо применить более сложную модель, но в меру, чтобы она не переобучилась и максимально обобщала обучающую выборку; как правило, мы стремимся создать наиболее простую модель с наилучшими характеристиками. Чтобы строить хорошие модели, нужно много экспериментировать.\n",
    "    \n",
    "\n",
    "- Как выбрать функцию потерь?\n",
    "\n",
    "    Зависит от типа данных и постановки задачи (функции, которую оптимизируем). Например, [так](https://qr.ae/TUtudU).\n",
    "\n",
    "    \n",
    "- Какой оптимизатор выбрать?\n",
    "\n",
    "    В зависимости от задачи и от доступных оптимизаторов. Читаем документацию, выбираем, что больше понравилось. У каждого оптимизатора есть определенные преимущества и недостатки в разных задачах"
   ]
  },
  {
   "cell_type": "code",
   "execution_count": 28,
   "metadata": {},
   "outputs": [],
   "source": [
    "def create_cnn_not_mnist():\n",
    "    input_shape = (28, 28, 1)\n",
    "    num_classes = 10\n",
    "    \n",
    "    model = Sequential()\n",
    "    \n",
    "    model.add(Conv2D(\n",
    "        filters=32, \n",
    "        kernel_size=(3,3),\n",
    "        activation='relu',\n",
    "        input_shape=input_shape\n",
    "    ))\n",
    "    model.add(Conv2D(64, (3, 3), activation='relu'))\n",
    "    model.add(MaxPooling2D(pool_size=(2, 2)))\n",
    "    model.add(Dropout(0.25))\n",
    "    \n",
    "    model.add(Flatten())\n",
    "    \n",
    "    model.add(Dense(128, activation='relu'))\n",
    "    model.add(Dropout(0.5))\n",
    "    model.add(Dense(num_classes, activation='softmax'))\n",
    "    \n",
    "    model.compile(\n",
    "        loss=keras.losses.categorical_crossentropy,\n",
    "        optimizer=keras.optimizers.Adadelta(),\n",
    "        metrics=['accuracy']\n",
    "    )\n",
    "    \n",
    "    return model"
   ]
  },
  {
   "cell_type": "markdown",
   "metadata": {},
   "source": [
    "Посмотрим сводку по модели."
   ]
  },
  {
   "cell_type": "code",
   "execution_count": 29,
   "metadata": {},
   "outputs": [
    {
     "name": "stdout",
     "output_type": "stream",
     "text": [
      "_________________________________________________________________\n",
      "Layer (type)                 Output Shape              Param #   \n",
      "=================================================================\n",
      "conv2d_5 (Conv2D)            (None, 26, 26, 32)        320       \n",
      "_________________________________________________________________\n",
      "conv2d_6 (Conv2D)            (None, 24, 24, 64)        18496     \n",
      "_________________________________________________________________\n",
      "max_pooling2d_3 (MaxPooling2 (None, 12, 12, 64)        0         \n",
      "_________________________________________________________________\n",
      "dropout_5 (Dropout)          (None, 12, 12, 64)        0         \n",
      "_________________________________________________________________\n",
      "flatten_3 (Flatten)          (None, 9216)              0         \n",
      "_________________________________________________________________\n",
      "dense_5 (Dense)              (None, 128)               1179776   \n",
      "_________________________________________________________________\n",
      "dropout_6 (Dropout)          (None, 128)               0         \n",
      "_________________________________________________________________\n",
      "dense_6 (Dense)              (None, 10)                1290      \n",
      "=================================================================\n",
      "Total params: 1,199,882\n",
      "Trainable params: 1,199,882\n",
      "Non-trainable params: 0\n",
      "_________________________________________________________________\n"
     ]
    }
   ],
   "source": [
    "model_not_mnist = create_cnn_not_mnist()\n",
    "model_not_mnist.summary()"
   ]
  },
  {
   "cell_type": "markdown",
   "metadata": {},
   "source": [
    "Модели Keras требуют определенной формы данных для обучения, а именно массив полных объектов. Например, для изображений: (кол-во образов, ширина, высота, количество каналов). Так, как у нас однотонное изображение размером 28 на 28, нам необходима форма (кол-во образов, 28, 28, 1)\n",
    "\n",
    "Метод `ndarray.reshape` позволяет нам сделать нужную трансофрмацию. Размерность -1 при остальных определенных говорит методу высчитать эту размерность на основании остальных\n",
    "\n",
    "Внимание. Если определить некорректные размерности, то данные \"перемешаются\" и получим бесполезные данные"
   ]
  },
  {
   "cell_type": "code",
   "execution_count": 30,
   "metadata": {},
   "outputs": [],
   "source": [
    "x_train = x_train.reshape(-1, 28, 28, 1)\n",
    "x_test = x_test.reshape(-1, 28, 28, 1)"
   ]
  },
  {
   "cell_type": "code",
   "execution_count": 21,
   "metadata": {},
   "outputs": [
    {
     "data": {
      "text/plain": [
       "(14979, 28, 28, 1)"
      ]
     },
     "execution_count": 21,
     "metadata": {},
     "output_type": "execute_result"
    }
   ],
   "source": [
    "x_train.shape"
   ]
  },
  {
   "cell_type": "code",
   "execution_count": 22,
   "metadata": {},
   "outputs": [
    {
     "data": {
      "text/plain": [
       "(3745, 28, 28, 1)"
      ]
     },
     "execution_count": 22,
     "metadata": {},
     "output_type": "execute_result"
    }
   ],
   "source": [
    "x_test.shape"
   ]
  },
  {
   "cell_type": "markdown",
   "metadata": {},
   "source": [
    "Обучим модель.\n",
    "Передаем обучающую выборку и тестовую в качестве валидационной.\n",
    "\n",
    "`batch_size` выбирается на свое усмотрение; общие правила:\n",
    "- малое значение замедляет обучение, веса становятся менее чувствительными, а функция потерь и точность медленно меняются; при этом затрачивается меньше памяти; обычно малые значения применяются для \"полировки\" модели, когда речь идет о сотых и тысячных долях точности\n",
    "- большое значение ускоряет обучение, веса, функция потерь и точность в большей мере меняются; полезно использовать большие значения в начале обучения, или когда точность не меняется, тогда таким образом можно \"выскочить\" из локального оптимума, затрачивается больше памяти\n",
    "\n",
    "`epochs` выбирается по необходимости (помним, что эпоха обучения - это один проход по всей обучающей выборке).\n",
    "\n",
    "\n",
    "Метод `model.fit` при повторном запуске продолжает обучать модель с того места, где оно остановилось в прошлый раз (даже если вы прервали выполнение ячейки). Данный метод возвращает объект результатов обучения, в котором имеется история метрик по эпохам.\n",
    "\n",
    "Часто необходимо делать серии обучения с разным количеством эпох и размером батча. Например 10 эпох с размером 128, 20 эпох с размером 64 и т.д.\n",
    "\n",
    "Внимание. Если после запуска следующей ячейки машина зависла, или кернел jupyter перезапустился, это значит, что модель слишком сложная для обучения на Вашей машине. Тогда вернитесь к ячейке с определением модели и уменьшите количество нейронов в каждом слое в два раза и увеличивайте до тех пор, пока используемая мощность не станем максимально допустимой. Естветсвенно, максимальная точность в таком случае может быть ниже (а может и не быть) или для ее достижения необходимо большее количество эпох."
   ]
  },
  {
   "cell_type": "code",
   "execution_count": 31,
   "metadata": {},
   "outputs": [
    {
     "name": "stdout",
     "output_type": "stream",
     "text": [
      "Train on 14979 samples, validate on 3745 samples\n",
      "Epoch 1/10\n",
      "14979/14979 [==============================] - 27s 2ms/step - loss: 2.3029 - acc: 0.1007 - val_loss: 2.3028 - val_acc: 0.1009\n",
      "Epoch 2/10\n",
      "14979/14979 [==============================] - 26s 2ms/step - loss: 2.2723 - acc: 0.1475 - val_loss: 1.7296 - val_acc: 0.5610\n",
      "Epoch 3/10\n",
      "14979/14979 [==============================] - 27s 2ms/step - loss: 0.9481 - acc: 0.7145 - val_loss: 0.5416 - val_acc: 0.8446\n",
      "Epoch 4/10\n",
      "14979/14979 [==============================] - 27s 2ms/step - loss: 0.6185 - acc: 0.8246 - val_loss: 0.4541 - val_acc: 0.8713\n",
      "Epoch 5/10\n",
      "14979/14979 [==============================] - 27s 2ms/step - loss: 0.5736 - acc: 0.8351 - val_loss: 0.4493 - val_acc: 0.8638\n",
      "Epoch 6/10\n",
      "14979/14979 [==============================] - 27s 2ms/step - loss: 0.5297 - acc: 0.8469 - val_loss: 0.4281 - val_acc: 0.8769\n",
      "Epoch 7/10\n",
      "14979/14979 [==============================] - 28s 2ms/step - loss: 0.5004 - acc: 0.8508 - val_loss: 0.4121 - val_acc: 0.8857\n",
      "Epoch 8/10\n",
      "14979/14979 [==============================] - 27s 2ms/step - loss: 0.4863 - acc: 0.8597 - val_loss: 0.4191 - val_acc: 0.8769\n",
      "Epoch 9/10\n",
      "14979/14979 [==============================] - 27s 2ms/step - loss: 0.4684 - acc: 0.8635 - val_loss: 0.3962 - val_acc: 0.8873\n",
      "Epoch 10/10\n",
      "14979/14979 [==============================] - 27s 2ms/step - loss: 0.4568 - acc: 0.8675 - val_loss: 0.3637 - val_acc: 0.8913\n"
     ]
    }
   ],
   "source": [
    "history = model_not_mnist.fit(\n",
    "    x_train,\n",
    "    y_train,\n",
    "    batch_size=64,\n",
    "    epochs=10,\n",
    "    validation_data=(x_test, y_test)\n",
    ")"
   ]
  },
  {
   "cell_type": "markdown",
   "metadata": {},
   "source": [
    "Модель обучилась. Построим графики точности и значений функции потерь по эпохам."
   ]
  },
  {
   "cell_type": "code",
   "execution_count": 45,
   "metadata": {},
   "outputs": [
    {
     "data": {
      "image/png": "[encoded data removed]",
      "text/plain": [
       "<Figure size 1008x432 with 2 Axes>"
      ]
     },
     "metadata": {
      "needs_background": "light"
     },
     "output_type": "display_data"
    }
   ],
   "source": [
    "plt.figure(figsize=(14, 6))\n",
    "\n",
    "plt.subplot(2, 1, 1)\n",
    "\n",
    "plt.plot(history.history['val_acc'])\n",
    "\n",
    "plt.xlabel('Итерации')\n",
    "plt.ylabel('Точность')\n",
    "plt.grid()\n",
    "\n",
    "plt.subplot(2, 1, 2)\n",
    "\n",
    "plt.plot(history.history['val_loss'])\n",
    "\n",
    "plt.xlabel('Итерации')\n",
    "plt.ylabel('Функция потерь')\n",
    "plt.grid()"
   ]
  },
  {
   "cell_type": "markdown",
   "metadata": {},
   "source": [
    "Оценим качество модели"
   ]
  },
  {
   "cell_type": "code",
   "execution_count": 47,
   "metadata": {},
   "outputs": [
    {
     "name": "stdout",
     "output_type": "stream",
     "text": [
      "3745/3745 [==============================] - 1s 358us/step\n"
     ]
    }
   ],
   "source": [
    "score = model_not_mnist.evaluate(x_test, y_test)"
   ]
  },
  {
   "cell_type": "code",
   "execution_count": 48,
   "metadata": {},
   "outputs": [
    {
     "name": "stdout",
     "output_type": "stream",
     "text": [
      "Функция потерь на тестовой выборке:  0.3637173531688899\n",
      "Точность на тестовой выборке:  0.8913217623497998\n"
     ]
    }
   ],
   "source": [
    "print(\"Функция потерь на тестовой выборке: \", score[0])\n",
    "print(\"Точность на тестовой выборке: \", score[1])"
   ]
  },
  {
   "cell_type": "markdown",
   "metadata": {},
   "source": [
    "## Самостоятельная работа"
   ]
  },
  {
   "cell_type": "markdown",
   "metadata": {},
   "source": []
  },
  {
   "cell_type": "code",
   "execution_count": 58,
   "metadata": {},
   "outputs": [],
   "source": [
    "from keras.datasets import mnist"
   ]
  },
  {
   "cell_type": "markdown",
   "metadata": {},
   "source": [
    "Загрузка данных"
   ]
  },
  {
   "cell_type": "code",
   "execution_count": 59,
   "metadata": {},
   "outputs": [],
   "source": [
    "(x_train, y_train), (x_test, y_test) = mnist.load_data()"
   ]
  },
  {
   "cell_type": "markdown",
   "metadata": {},
   "source": [
    "Нормализация входных объектов"
   ]
  },
  {
   "cell_type": "markdown",
   "metadata": {},
   "source": [
    "Кодирование меток классов"
   ]
  },
  {
   "cell_type": "code",
   "execution_count": null,
   "metadata": {},
   "outputs": [],
   "source": []
  },
  {
   "cell_type": "markdown",
   "metadata": {},
   "source": [
    "Не забываем проверить формат данных\n",
    "- `shape` выборки\n",
    "- содержание объектов\n",
    "- количество классов\n",
    "- ..."
   ]
  },
  {
   "cell_type": "code",
   "execution_count": null,
   "metadata": {},
   "outputs": [],
   "source": []
  },
  {
   "cell_type": "markdown",
   "metadata": {},
   "source": [
    "Построение нейронной сети"
   ]
  },
  {
   "cell_type": "code",
   "execution_count": 60,
   "metadata": {},
   "outputs": [],
   "source": [
    "def create_model_mnist():\n",
    "    model = Sequential()\n",
    "    \n",
    "    # insert convolutional layers\n",
    "    # insert dense layers\n",
    "    # compile model\n",
    "    \n",
    "    return model"
   ]
  },
  {
   "cell_type": "code",
   "execution_count": 61,
   "metadata": {},
   "outputs": [],
   "source": [
    "model_mnist = create_cnn_not_mnist()"
   ]
  },
  {
   "cell_type": "markdown",
   "metadata": {},
   "source": [
    "Краткая сводка по модели"
   ]
  },
  {
   "cell_type": "code",
   "execution_count": null,
   "metadata": {},
   "outputs": [],
   "source": []
  },
  {
   "cell_type": "markdown",
   "metadata": {},
   "source": [
    "Обучение модели.\n",
    "Входные данные соответствуют необходимому для Keras формату?"
   ]
  },
  {
   "cell_type": "code",
   "execution_count": null,
   "metadata": {},
   "outputs": [],
   "source": []
  },
  {
   "cell_type": "code",
   "execution_count": null,
   "metadata": {},
   "outputs": [],
   "source": [
    "history = model_mnist.fit(\n",
    "    # ...\n",
    ")"
   ]
  },
  {
   "cell_type": "markdown",
   "metadata": {},
   "source": [
    "Оценка качества модели на тестовой выборке"
   ]
  },
  {
   "cell_type": "code",
   "execution_count": null,
   "metadata": {},
   "outputs": [],
   "source": [
    "score_mnist = model_mnist.evaluate(x_test, y_test)"
   ]
  },
  {
   "cell_type": "code",
   "execution_count": null,
   "metadata": {},
   "outputs": [],
   "source": [
    "print(\"Функция потерь на тестовой выборке: \", score_mnist[0])\n",
    "print(\"Точность на тестовой выборке: \", score_mnist[1])"
   ]
  }
 ],
 "metadata": {
  "kernelspec": {
   "display_name": "Python 3",
   "language": "python",
   "name": "python3"
  },
  "language_info": {
   "codemirror_mode": {
    "name": "ipython",
    "version": 3
   },
   "file_extension": ".py",
   "mimetype": "text/x-python",
   "name": "python",
   "nbconvert_exporter": "python",
   "pygments_lexer": "ipython3",
   "version": "3.5.2"
  }
 },
 "nbformat": 4,
 "nbformat_minor": 2
}
